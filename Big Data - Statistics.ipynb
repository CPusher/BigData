{
 "cells": [
  {
   "cell_type": "markdown",
   "metadata": {},
   "source": [
    "# Big Data - Statistics\n",
    "## Phase one - Data extraction and modification"
   ]
  },
  {
   "cell_type": "raw",
   "metadata": {},
   "source": [
    "Import all the necessary dependencies\n",
    "\n",
    "Setup XML data extraction\n",
    "Setup pandas dataframe to receive XML data\n",
    "\n",
    "(For loop)\n",
    "    Look if each node has \"HKQuantityTypeIdentifierDistanceCycling\" as its type\n",
    "        Extract the necessary attributes and append them to a temporary array\n",
    "\n",
    "(For loop)\n",
    "    Looks for the indexes of dataSections with the same date as the current dataSection\n",
    "    (for loop)\n",
    "        Adds all the distances of all the dataSections with the same date as the current dataSection\n",
    "    Assembles a temporary array of the total distance and, the date of the current dataSection\n",
    "    If there isn't a record with the same date as the date of the current dataSection, the temporary array will be appended\n",
    "\n",
    "(Setting up the dataframe)\n",
    "(For Loop)\n",
    "    Generating the dataframe with the right columns at the right place and formating the date to the Day of week format\n",
    "\n",
    "Print out the dataframe"
   ]
  },
  {
   "cell_type": "code",
   "execution_count": 16,
   "metadata": {},
   "outputs": [
    {
     "name": "stdout",
     "output_type": "stream",
     "text": [
      "    distance        date day_of_week\n",
      "0        7.4  2019-03-07    Thursday\n",
      "1        7.4  2019-03-08      Friday\n",
      "2        3.7  2019-03-09    Saturday\n",
      "3        3.7  2019-03-11      Monday\n",
      "4        7.4  2019-03-12     Tuesday\n",
      "5        7.4  2019-03-13   Wednesday\n",
      "6        7.4  2019-03-14    Thursday\n",
      "7       28.1  2019-04-23     Tuesday\n",
      "8       12.0  2019-04-20    Saturday\n",
      "9        4.0  2019-03-15      Friday\n",
      "10       8.2  2019-03-16    Saturday\n",
      "11       8.2  2019-03-19     Tuesday\n",
      "12       8.2  2019-03-20   Wednesday\n",
      "13       8.2  2019-03-21    Thursday\n",
      "14       8.2  2019-03-22      Friday\n",
      "15       8.2  2019-03-23    Saturday\n",
      "16       8.2  2019-03-26     Tuesday\n",
      "17       8.2  2019-03-27   Wednesday\n",
      "18       8.2  2019-03-28    Thursday\n",
      "19       8.2  2019-03-29      Friday\n",
      "20       8.2  2019-03-30    Saturday\n",
      "21       8.2  2019-04-02     Tuesday\n",
      "22       8.2  2019-04-03   Wednesday\n",
      "23      15.2  2019-04-24   Wednesday\n",
      "24       8.2  2019-04-16     Tuesday\n",
      "25       8.2  2019-04-17   Wednesday\n",
      "26       8.2  2019-04-18    Thursday\n",
      "27       8.2  2019-04-19      Friday\n",
      "28       8.2  2019-04-04    Thursday\n",
      "29       8.2  2019-04-05      Friday\n",
      "30       8.2  2019-04-06    Saturday\n",
      "31       8.2  2019-04-10   Wednesday\n",
      "32      12.3  2019-04-11    Thursday\n",
      "33      13.3  2019-04-08      Monday\n",
      "34       7.4  2019-04-09     Tuesday\n",
      "35       4.1  2019-04-13    Saturday\n",
      "36      26.5  2019-04-25    Thursday\n",
      "37      25.2  2019-04-26      Friday\n",
      "38      22.9  2019-04-28      Sunday\n",
      "39       8.2  2019-04-29      Monday\n",
      "40       8.2  2019-04-30     Tuesday\n",
      "41       8.2  2019-05-01   Wednesday\n",
      "42       8.2  2019-05-02    Thursday\n",
      "43      13.3  2019-05-07     Tuesday\n",
      "44      20.7  2019-05-03      Friday\n",
      "45      20.0  2019-05-05      Sunday\n",
      "46       9.5  2019-05-06      Monday\n",
      "47       9.2  2019-05-08   Wednesday\n",
      "48       4.6  2019-05-09    Thursday\n",
      "49      21.2  2019-05-10      Friday\n",
      "50       9.2  2019-05-11    Saturday\n",
      "51      29.9  2019-05-12      Sunday\n",
      "52      34.7  2019-05-13      Monday\n",
      "53       8.4  2019-05-14     Tuesday\n",
      "54      16.0  2019-05-22   Wednesday\n",
      "55       8.0  2019-05-15   Wednesday\n",
      "56       8.0  2019-05-16    Thursday\n",
      "57       3.7  2019-05-23    Thursday\n",
      "58       3.7  2019-05-24      Friday\n",
      "59       8.0  2019-05-27      Monday\n",
      "60      29.4  2019-05-28     Tuesday\n",
      "61       8.0  2019-05-29   Wednesday\n",
      "62       8.0  2019-05-30    Thursday\n",
      "63       8.0  2019-05-31      Friday\n",
      "64      49.0  2019-06-01    Saturday\n",
      "65      19.4  2019-05-26      Sunday\n",
      "66      11.6  2019-06-02      Sunday\n",
      "67      13.2  2019-06-03      Monday\n"
     ]
    },
    {
     "name": "stderr",
     "output_type": "stream",
     "text": [
      "/Users/yen/anaconda3/lib/python3.7/site-packages/ipykernel_launcher.py:32: FutureWarning: elementwise comparison failed; returning scalar instead, but in the future will perform elementwise comparison\n"
     ]
    }
   ],
   "source": [
    "import numpy as np\n",
    "import pandas as pd\n",
    "import datetime as dt\n",
    "\n",
    "import xml.etree.ElementTree as et\n",
    "\n",
    "xtree = et.parse(\"export.xml\")\n",
    "xroot = xtree.getroot()\n",
    "\n",
    "dataArray = []\n",
    "\n",
    "for node in xroot:\n",
    "    if (node.attrib.get(\"type\") == \"HKQuantityTypeIdentifierDistanceCycling\") :\n",
    "        d_distance = node.attrib.get(\"value\")\n",
    "        d_date = node.attrib.get(\"startDate\")[0:10]\n",
    "        dataArray.append([d_distance, d_date])\n",
    "\n",
    "transformationArray = []\n",
    "\n",
    "for dataSection in dataArray:\n",
    "    indexes = np.where(np.array(dataArray)==dataSection[1])\n",
    "    \n",
    "    transformationSection = []\n",
    "    totalDistance = 0\n",
    "    \n",
    "    for index in indexes[0]:\n",
    "        totalDistance += float(dataArray[index][0])\n",
    "    \n",
    "    transformationSection.append(totalDistance)\n",
    "    transformationSection.append(dataSection[1])\n",
    "    \n",
    "    if(len(np.where(np.array(transformationArray)==dataSection[1])[0]) == 0):\n",
    "        transformationArray.append(transformationSection)\n",
    "\n",
    "df_cols = [\"distance\", \"date\", \"day_of_week\"]\n",
    "df_out = pd.DataFrame(columns = df_cols)\n",
    "\n",
    "for tSection in transformationArray:\n",
    "    df_out = df_out.append(pd.Series([float(tSection[0]), tSection[1], dt.datetime.strptime(tSection[1], \"%Y-%m-%d\").strftime(\"%A\")], index = df_cols), ignore_index=True)\n",
    "\n",
    "print(df_out.to_string())"
   ]
  },
  {
   "cell_type": "raw",
   "metadata": {},
   "source": [
    "Average and Median (Gemiddelde en Mediaan)"
   ]
  },
  {
   "cell_type": "code",
   "execution_count": 3,
   "metadata": {},
   "outputs": [
    {
     "name": "stdout",
     "output_type": "stream",
     "text": [
      "Average: 11.69264705882353\n",
      "Median: 8.2\n"
     ]
    }
   ],
   "source": [
    "print(\"Average: \" + str(np.average(df_out.distance)))\n",
    "print(\"Median: \" + str(np.median(df_out.distance, axis = None)))"
   ]
  },
  {
   "cell_type": "raw",
   "metadata": {},
   "source": [
    "Mode (Modus)"
   ]
  },
  {
   "cell_type": "code",
   "execution_count": 20,
   "metadata": {},
   "outputs": [
    {
     "data": {
      "text/html": [
       "<div>\n",
       "<style scoped>\n",
       "    .dataframe tbody tr th:only-of-type {\n",
       "        vertical-align: middle;\n",
       "    }\n",
       "\n",
       "    .dataframe tbody tr th {\n",
       "        vertical-align: top;\n",
       "    }\n",
       "\n",
       "    .dataframe thead th {\n",
       "        text-align: right;\n",
       "    }\n",
       "</style>\n",
       "<table border=\"1\" class=\"dataframe\">\n",
       "  <thead>\n",
       "    <tr style=\"text-align: right;\">\n",
       "      <th></th>\n",
       "      <th>distance</th>\n",
       "    </tr>\n",
       "  </thead>\n",
       "  <tbody>\n",
       "    <tr>\n",
       "      <th>0</th>\n",
       "      <td>8.2</td>\n",
       "    </tr>\n",
       "  </tbody>\n",
       "</table>\n",
       "</div>"
      ],
      "text/plain": [
       "   distance\n",
       "0       8.2"
      ]
     },
     "execution_count": 20,
     "metadata": {},
     "output_type": "execute_result"
    }
   ],
   "source": [
    "df_out.mode(axis=0,numeric_only=True,dropna=True)"
   ]
  },
  {
   "cell_type": "raw",
   "metadata": {},
   "source": [
    "Range (Het bereik)"
   ]
  },
  {
   "cell_type": "code",
   "execution_count": 18,
   "metadata": {},
   "outputs": [
    {
     "name": "stdout",
     "output_type": "stream",
     "text": [
      "45.3\n"
     ]
    }
   ],
   "source": [
    "print(df_out[\"distance\"].max() - df_out[\"distance\"].min())"
   ]
  },
  {
   "cell_type": "raw",
   "metadata": {},
   "source": [
    "Boxplot (Interkwartiel afstand)"
   ]
  },
  {
   "cell_type": "code",
   "execution_count": 2,
   "metadata": {},
   "outputs": [
    {
     "data": {
      "text/plain": [
       "<matplotlib.axes._subplots.AxesSubplot at 0x125bbeef0>"
      ]
     },
     "execution_count": 2,
     "metadata": {},
     "output_type": "execute_result"
    },
    {
     "data": {
      "image/png": "[encoded data removed]",
      "text/plain": [
       "<Figure size 432x288 with 1 Axes>"
      ]
     },
     "metadata": {
      "needs_background": "light"
     },
     "output_type": "display_data"
    }
   ],
   "source": [
    "df_out.boxplot(column=\"distance\")"
   ]
  },
  {
   "cell_type": "raw",
   "metadata": {},
   "source": [
    "Standard Deviation (Standaard Deviatie)"
   ]
  },
  {
   "cell_type": "code",
   "execution_count": 21,
   "metadata": {},
   "outputs": [
    {
     "data": {
      "text/plain": [
       "distance    8.330421\n",
       "dtype: float64"
      ]
     },
     "execution_count": 21,
     "metadata": {},
     "output_type": "execute_result"
    }
   ],
   "source": [
    "df_out.std()"
   ]
  },
  {
   "cell_type": "raw",
   "metadata": {},
   "source": [
    "Correlation and Regression (Correlatie en Regressie)"
   ]
  },
  {
   "cell_type": "code",
   "execution_count": 23,
   "metadata": {},
   "outputs": [
    {
     "data": {
      "text/html": [
       "<div>\n",
       "<style scoped>\n",
       "    .dataframe tbody tr th:only-of-type {\n",
       "        vertical-align: middle;\n",
       "    }\n",
       "\n",
       "    .dataframe tbody tr th {\n",
       "        vertical-align: top;\n",
       "    }\n",
       "\n",
       "    .dataframe thead th {\n",
       "        text-align: right;\n",
       "    }\n",
       "</style>\n",
       "<table border=\"1\" class=\"dataframe\">\n",
       "  <thead>\n",
       "    <tr style=\"text-align: right;\">\n",
       "      <th></th>\n",
       "      <th>distance</th>\n",
       "    </tr>\n",
       "  </thead>\n",
       "  <tbody>\n",
       "    <tr>\n",
       "      <th>distance</th>\n",
       "      <td>1.0</td>\n",
       "    </tr>\n",
       "  </tbody>\n",
       "</table>\n",
       "</div>"
      ],
      "text/plain": [
       "          distance\n",
       "distance       1.0"
      ]
     },
     "execution_count": 23,
     "metadata": {},
     "output_type": "execute_result"
    }
   ],
   "source": [
    "df_out.corr()"
   ]
  },
  {
   "cell_type": "code",
   "execution_count": 29,
   "metadata": {},
   "outputs": [
    {
     "data": {
      "image/png": "[encoded data removed]",
      "text/plain": [
       "<Figure size 432x288 with 1 Axes>"
      ]
     },
     "metadata": {
      "needs_background": "light"
     },
     "output_type": "display_data"
    }
   ],
   "source": [
    "import matplotlib.pyplot as plt\n",
    "from sklearn.linear_model import LinearRegression\n",
    "\n",
    "X = df_out.iloc[:, 0].values.reshape(-1, 1)\n",
    "Y = df_out.iloc[:, 0].values.reshape(-1, 1)\n",
    "\n",
    "linear_regressor = LinearRegression()\n",
    "linear_regressor.fit(X, Y)\n",
    "Y_pred = linear_regressor.predict(X)\n",
    "\n",
    "plt.scatter(X, Y)\n",
    "plt.plot(X, Y_pred, color='red')\n",
    "plt.show()"
   ]
  },
  {
   "cell_type": "code",
   "execution_count": null,
   "metadata": {},
   "outputs": [],
   "source": []
  }
 ],
 "metadata": {
  "kernelspec": {
   "display_name": "Python 3",
   "language": "python",
   "name": "python3"
  },
  "language_info": {
   "codemirror_mode": {
    "name": "ipython",
    "version": 3
   },
   "file_extension": ".py",
   "mimetype": "text/x-python",
   "name": "python",
   "nbconvert_exporter": "python",
   "pygments_lexer": "ipython3",
   "version": "3.7.3"
  }
 },
 "nbformat": 4,
 "nbformat_minor": 2
}
